{
 "cells": [
  {
   "cell_type": "code",
   "execution_count": 3,
   "id": "conscious-legislature",
   "metadata": {},
   "outputs": [],
   "source": [
    "import pandas as pd\n",
    "import numpy as np\n",
    "\n",
    "# data visualization library \n",
    "import matplotlib\n",
    "import matplotlib.pyplot as plt\n",
    "import seaborn as sns"
   ]
  },
  {
   "cell_type": "code",
   "execution_count": 4,
   "id": "little-petroleum",
   "metadata": {},
   "outputs": [],
   "source": [
    "# machine learning library\n",
    "from sklearn.preprocessing import LabelEncoder\n",
    "e=LabelEncoder()"
   ]
  },
  {
   "cell_type": "code",
   "execution_count": 7,
   "id": "informed-cotton",
   "metadata": {},
   "outputs": [],
   "source": [
    "covid = pd.read_csv('./data/corona_tested_individuals_ver_006.english.csv')"
   ]
  },
  {
   "cell_type": "code",
   "execution_count": 8,
   "id": "metallic-machine",
   "metadata": {},
   "outputs": [],
   "source": [
    "covid['cough']=e.fit_transform(covid['cough'])\n",
    "covid['fever']=e.fit_transform(covid['fever'])\n",
    "covid['sore_throat']=e.fit_transform(covid['sore_throat'])\n",
    "covid['shortness_of_breath']=e.fit_transform(covid['shortness_of_breath'])\n",
    "covid['head_ache']=e.fit_transform(covid['head_ache'])\n",
    "covid['corona_result']=e.fit_transform(covid['corona_result'])\n",
    "covid['age_60_and_above']=e.fit_transform(covid['age_60_and_above'])\n",
    "covid['gender']=e.fit_transform(covid['gender'])\n",
    "covid['test_indication']=e.fit_transform(covid['test_indication'])"
   ]
  },
  {
   "cell_type": "code",
   "execution_count": 9,
   "id": "taken-underground",
   "metadata": {},
   "outputs": [
    {
     "data": {
      "text/html": [
       "<div>\n",
       "<style scoped>\n",
       "    .dataframe tbody tr th:only-of-type {\n",
       "        vertical-align: middle;\n",
       "    }\n",
       "\n",
       "    .dataframe tbody tr th {\n",
       "        vertical-align: top;\n",
       "    }\n",
       "\n",
       "    .dataframe thead th {\n",
       "        text-align: right;\n",
       "    }\n",
       "</style>\n",
       "<table border=\"1\" class=\"dataframe\">\n",
       "  <thead>\n",
       "    <tr style=\"text-align: right;\">\n",
       "      <th></th>\n",
       "      <th>cough</th>\n",
       "      <th>fever</th>\n",
       "      <th>sore_throat</th>\n",
       "      <th>shortness_of_breath</th>\n",
       "      <th>head_ache</th>\n",
       "      <th>corona_result</th>\n",
       "      <th>age_60_and_above</th>\n",
       "      <th>gender</th>\n",
       "      <th>test_indication</th>\n",
       "    </tr>\n",
       "  </thead>\n",
       "  <tbody>\n",
       "    <tr>\n",
       "      <th>count</th>\n",
       "      <td>278848.000000</td>\n",
       "      <td>278848.000000</td>\n",
       "      <td>278848.000000</td>\n",
       "      <td>278848.000000</td>\n",
       "      <td>278848.000000</td>\n",
       "      <td>278848.000000</td>\n",
       "      <td>278848.000000</td>\n",
       "      <td>278848.000000</td>\n",
       "      <td>278848.00000</td>\n",
       "    </tr>\n",
       "    <tr>\n",
       "      <th>mean</th>\n",
       "      <td>0.151437</td>\n",
       "      <td>0.078007</td>\n",
       "      <td>0.006907</td>\n",
       "      <td>0.005655</td>\n",
       "      <td>0.008657</td>\n",
       "      <td>0.052821</td>\n",
       "      <td>0.092613</td>\n",
       "      <td>1.392917</td>\n",
       "      <td>0.16764</td>\n",
       "    </tr>\n",
       "    <tr>\n",
       "      <th>std</th>\n",
       "      <td>0.358475</td>\n",
       "      <td>0.268183</td>\n",
       "      <td>0.082821</td>\n",
       "      <td>0.074990</td>\n",
       "      <td>0.092640</td>\n",
       "      <td>0.223676</td>\n",
       "      <td>0.289890</td>\n",
       "      <td>0.615506</td>\n",
       "      <td>0.46459</td>\n",
       "    </tr>\n",
       "    <tr>\n",
       "      <th>min</th>\n",
       "      <td>0.000000</td>\n",
       "      <td>0.000000</td>\n",
       "      <td>0.000000</td>\n",
       "      <td>0.000000</td>\n",
       "      <td>0.000000</td>\n",
       "      <td>0.000000</td>\n",
       "      <td>0.000000</td>\n",
       "      <td>0.000000</td>\n",
       "      <td>0.00000</td>\n",
       "    </tr>\n",
       "    <tr>\n",
       "      <th>25%</th>\n",
       "      <td>0.000000</td>\n",
       "      <td>0.000000</td>\n",
       "      <td>0.000000</td>\n",
       "      <td>0.000000</td>\n",
       "      <td>0.000000</td>\n",
       "      <td>0.000000</td>\n",
       "      <td>0.000000</td>\n",
       "      <td>1.000000</td>\n",
       "      <td>0.00000</td>\n",
       "    </tr>\n",
       "    <tr>\n",
       "      <th>50%</th>\n",
       "      <td>0.000000</td>\n",
       "      <td>0.000000</td>\n",
       "      <td>0.000000</td>\n",
       "      <td>0.000000</td>\n",
       "      <td>0.000000</td>\n",
       "      <td>0.000000</td>\n",
       "      <td>0.000000</td>\n",
       "      <td>1.000000</td>\n",
       "      <td>0.00000</td>\n",
       "    </tr>\n",
       "    <tr>\n",
       "      <th>75%</th>\n",
       "      <td>0.000000</td>\n",
       "      <td>0.000000</td>\n",
       "      <td>0.000000</td>\n",
       "      <td>0.000000</td>\n",
       "      <td>0.000000</td>\n",
       "      <td>0.000000</td>\n",
       "      <td>0.000000</td>\n",
       "      <td>2.000000</td>\n",
       "      <td>0.00000</td>\n",
       "    </tr>\n",
       "    <tr>\n",
       "      <th>max</th>\n",
       "      <td>1.000000</td>\n",
       "      <td>1.000000</td>\n",
       "      <td>1.000000</td>\n",
       "      <td>1.000000</td>\n",
       "      <td>1.000000</td>\n",
       "      <td>1.000000</td>\n",
       "      <td>1.000000</td>\n",
       "      <td>2.000000</td>\n",
       "      <td>2.00000</td>\n",
       "    </tr>\n",
       "  </tbody>\n",
       "</table>\n",
       "</div>"
      ],
      "text/plain": [
       "               cough          fever    sore_throat  shortness_of_breath  \\\n",
       "count  278848.000000  278848.000000  278848.000000        278848.000000   \n",
       "mean        0.151437       0.078007       0.006907             0.005655   \n",
       "std         0.358475       0.268183       0.082821             0.074990   \n",
       "min         0.000000       0.000000       0.000000             0.000000   \n",
       "25%         0.000000       0.000000       0.000000             0.000000   \n",
       "50%         0.000000       0.000000       0.000000             0.000000   \n",
       "75%         0.000000       0.000000       0.000000             0.000000   \n",
       "max         1.000000       1.000000       1.000000             1.000000   \n",
       "\n",
       "           head_ache  corona_result  age_60_and_above         gender  \\\n",
       "count  278848.000000  278848.000000     278848.000000  278848.000000   \n",
       "mean        0.008657       0.052821          0.092613       1.392917   \n",
       "std         0.092640       0.223676          0.289890       0.615506   \n",
       "min         0.000000       0.000000          0.000000       0.000000   \n",
       "25%         0.000000       0.000000          0.000000       1.000000   \n",
       "50%         0.000000       0.000000          0.000000       1.000000   \n",
       "75%         0.000000       0.000000          0.000000       2.000000   \n",
       "max         1.000000       1.000000          1.000000       2.000000   \n",
       "\n",
       "       test_indication  \n",
       "count     278848.00000  \n",
       "mean           0.16764  \n",
       "std            0.46459  \n",
       "min            0.00000  \n",
       "25%            0.00000  \n",
       "50%            0.00000  \n",
       "75%            0.00000  \n",
       "max            2.00000  "
      ]
     },
     "execution_count": 9,
     "metadata": {},
     "output_type": "execute_result"
    }
   ],
   "source": [
    "covid.describe(include='all')"
   ]
  },
  {
   "cell_type": "code",
   "execution_count": 10,
   "id": "suspended-stocks",
   "metadata": {},
   "outputs": [
    {
     "data": {
      "image/png": "[encoded data removed]",
      "text/plain": [
       "<Figure size 1440x1080 with 9 Axes>"
      ]
     },
     "metadata": {
      "needs_background": "light"
     },
     "output_type": "display_data"
    }
   ],
   "source": [
    "covid.hist(figsize=(20,15));"
   ]
  },
  {
   "cell_type": "code",
   "execution_count": 11,
   "id": "local-pixel",
   "metadata": {},
   "outputs": [
    {
     "data": {
      "text/html": [
       "<style  type=\"text/css\" >\n",
       "#T_8d12d_row0_col0,#T_8d12d_row1_col1,#T_8d12d_row2_col2,#T_8d12d_row3_col3,#T_8d12d_row4_col4,#T_8d12d_row5_col5,#T_8d12d_row6_col6,#T_8d12d_row7_col7,#T_8d12d_row8_col8{\n",
       "            background-color:  #b40426;\n",
       "            color:  #f1f1f1;\n",
       "        }#T_8d12d_row0_col1,#T_8d12d_row1_col0{\n",
       "            background-color:  #d6dce4;\n",
       "            color:  #000000;\n",
       "        }#T_8d12d_row0_col2,#T_8d12d_row0_col4,#T_8d12d_row2_col0,#T_8d12d_row4_col0{\n",
       "            background-color:  #6a8bef;\n",
       "            color:  #000000;\n",
       "        }#T_8d12d_row0_col3,#T_8d12d_row3_col0{\n",
       "            background-color:  #6788ee;\n",
       "            color:  #000000;\n",
       "        }#T_8d12d_row0_col5,#T_8d12d_row5_col0{\n",
       "            background-color:  #84a7fc;\n",
       "            color:  #000000;\n",
       "        }#T_8d12d_row0_col6,#T_8d12d_row4_col7,#T_8d12d_row6_col0,#T_8d12d_row6_col7,#T_8d12d_row6_col8,#T_8d12d_row7_col4,#T_8d12d_row7_col6,#T_8d12d_row8_col6{\n",
       "            background-color:  #4358cb;\n",
       "            color:  #f1f1f1;\n",
       "        }#T_8d12d_row0_col7,#T_8d12d_row7_col0{\n",
       "            background-color:  #4f69d9;\n",
       "            color:  #000000;\n",
       "        }#T_8d12d_row0_col8,#T_8d12d_row5_col8,#T_8d12d_row8_col0,#T_8d12d_row8_col5{\n",
       "            background-color:  #dedcdb;\n",
       "            color:  #000000;\n",
       "        }#T_8d12d_row1_col2,#T_8d12d_row1_col3,#T_8d12d_row2_col1,#T_8d12d_row3_col1{\n",
       "            background-color:  #6c8ff1;\n",
       "            color:  #000000;\n",
       "        }#T_8d12d_row1_col4,#T_8d12d_row2_col8,#T_8d12d_row4_col1,#T_8d12d_row8_col2{\n",
       "            background-color:  #7b9ff9;\n",
       "            color:  #000000;\n",
       "        }#T_8d12d_row1_col5,#T_8d12d_row5_col1{\n",
       "            background-color:  #9bbcff;\n",
       "            color:  #000000;\n",
       "        }#T_8d12d_row1_col6,#T_8d12d_row5_col7,#T_8d12d_row6_col1,#T_8d12d_row7_col5{\n",
       "            background-color:  #4a63d3;\n",
       "            color:  #f1f1f1;\n",
       "        }#T_8d12d_row1_col7,#T_8d12d_row7_col1{\n",
       "            background-color:  #4e68d8;\n",
       "            color:  #000000;\n",
       "        }#T_8d12d_row1_col8,#T_8d12d_row8_col1{\n",
       "            background-color:  #b3cdfb;\n",
       "            color:  #000000;\n",
       "        }#T_8d12d_row2_col3,#T_8d12d_row3_col2{\n",
       "            background-color:  #85a8fc;\n",
       "            color:  #000000;\n",
       "        }#T_8d12d_row2_col4,#T_8d12d_row4_col2{\n",
       "            background-color:  #afcafc;\n",
       "            color:  #000000;\n",
       "        }#T_8d12d_row2_col5,#T_8d12d_row5_col2{\n",
       "            background-color:  #9fbfff;\n",
       "            color:  #000000;\n",
       "        }#T_8d12d_row2_col6,#T_8d12d_row6_col2{\n",
       "            background-color:  #465ecf;\n",
       "            color:  #f1f1f1;\n",
       "        }#T_8d12d_row2_col7,#T_8d12d_row7_col2{\n",
       "            background-color:  #3c4ec2;\n",
       "            color:  #f1f1f1;\n",
       "        }#T_8d12d_row3_col4,#T_8d12d_row4_col3,#T_8d12d_row4_col8,#T_8d12d_row8_col4{\n",
       "            background-color:  #86a9fc;\n",
       "            color:  #000000;\n",
       "        }#T_8d12d_row3_col5,#T_8d12d_row5_col3{\n",
       "            background-color:  #90b2fe;\n",
       "            color:  #000000;\n",
       "        }#T_8d12d_row3_col6,#T_8d12d_row6_col3{\n",
       "            background-color:  #4c66d6;\n",
       "            color:  #000000;\n",
       "        }#T_8d12d_row3_col7,#T_8d12d_row7_col3{\n",
       "            background-color:  #3b4cc0;\n",
       "            color:  #f1f1f1;\n",
       "        }#T_8d12d_row3_col8,#T_8d12d_row8_col3{\n",
       "            background-color:  #6f92f3;\n",
       "            color:  #000000;\n",
       "        }#T_8d12d_row4_col5,#T_8d12d_row5_col4{\n",
       "            background-color:  #bcd2f7;\n",
       "            color:  #000000;\n",
       "        }#T_8d12d_row4_col6,#T_8d12d_row6_col4{\n",
       "            background-color:  #485fd1;\n",
       "            color:  #f1f1f1;\n",
       "        }#T_8d12d_row5_col6,#T_8d12d_row6_col5{\n",
       "            background-color:  #5470de;\n",
       "            color:  #000000;\n",
       "        }#T_8d12d_row7_col8,#T_8d12d_row8_col7{\n",
       "            background-color:  #4961d2;\n",
       "            color:  #f1f1f1;\n",
       "        }</style><table id=\"T_8d12d_\" ><thead>    <tr>        <th class=\"blank level0\" ></th>        <th class=\"col_heading level0 col0\" >cough</th>        <th class=\"col_heading level0 col1\" >fever</th>        <th class=\"col_heading level0 col2\" >sore_throat</th>        <th class=\"col_heading level0 col3\" >shortness_of_breath</th>        <th class=\"col_heading level0 col4\" >head_ache</th>        <th class=\"col_heading level0 col5\" >corona_result</th>        <th class=\"col_heading level0 col6\" >age_60_and_above</th>        <th class=\"col_heading level0 col7\" >gender</th>        <th class=\"col_heading level0 col8\" >test_indication</th>    </tr></thead><tbody>\n",
       "                <tr>\n",
       "                        <th id=\"T_8d12d_level0_row0\" class=\"row_heading level0 row0\" >cough</th>\n",
       "                        <td id=\"T_8d12d_row0_col0\" class=\"data row0 col0\" >1.000000</td>\n",
       "                        <td id=\"T_8d12d_row0_col1\" class=\"data row0 col1\" >0.454386</td>\n",
       "                        <td id=\"T_8d12d_row0_col2\" class=\"data row0 col2\" >0.115637</td>\n",
       "                        <td id=\"T_8d12d_row0_col3\" class=\"data row0 col3\" >0.106749</td>\n",
       "                        <td id=\"T_8d12d_row0_col4\" class=\"data row0 col4\" >0.116350</td>\n",
       "                        <td id=\"T_8d12d_row0_col5\" class=\"data row0 col5\" >0.194711</td>\n",
       "                        <td id=\"T_8d12d_row0_col6\" class=\"data row0 col6\" >-0.007553</td>\n",
       "                        <td id=\"T_8d12d_row0_col7\" class=\"data row0 col7\" >0.032993</td>\n",
       "                        <td id=\"T_8d12d_row0_col8\" class=\"data row0 col8\" >0.487182</td>\n",
       "            </tr>\n",
       "            <tr>\n",
       "                        <th id=\"T_8d12d_level0_row1\" class=\"row_heading level0 row1\" >fever</th>\n",
       "                        <td id=\"T_8d12d_row1_col0\" class=\"data row1 col0\" >0.454386</td>\n",
       "                        <td id=\"T_8d12d_row1_col1\" class=\"data row1 col1\" >1.000000</td>\n",
       "                        <td id=\"T_8d12d_row1_col2\" class=\"data row1 col2\" >0.122832</td>\n",
       "                        <td id=\"T_8d12d_row1_col3\" class=\"data row1 col3\" >0.126070</td>\n",
       "                        <td id=\"T_8d12d_row1_col4\" class=\"data row1 col4\" >0.168841</td>\n",
       "                        <td id=\"T_8d12d_row1_col5\" class=\"data row1 col5\" >0.263649</td>\n",
       "                        <td id=\"T_8d12d_row1_col6\" class=\"data row1 col6\" >0.015890</td>\n",
       "                        <td id=\"T_8d12d_row1_col7\" class=\"data row1 col7\" >0.026164</td>\n",
       "                        <td id=\"T_8d12d_row1_col8\" class=\"data row1 col8\" >0.334960</td>\n",
       "            </tr>\n",
       "            <tr>\n",
       "                        <th id=\"T_8d12d_level0_row2\" class=\"row_heading level0 row2\" >sore_throat</th>\n",
       "                        <td id=\"T_8d12d_row2_col0\" class=\"data row2 col0\" >0.115637</td>\n",
       "                        <td id=\"T_8d12d_row2_col1\" class=\"data row2 col1\" >0.122832</td>\n",
       "                        <td id=\"T_8d12d_row2_col2\" class=\"data row2 col2\" >1.000000</td>\n",
       "                        <td id=\"T_8d12d_row2_col3\" class=\"data row2 col3\" >0.197540</td>\n",
       "                        <td id=\"T_8d12d_row2_col4\" class=\"data row2 col4\" >0.323132</td>\n",
       "                        <td id=\"T_8d12d_row2_col5\" class=\"data row2 col5\" >0.275718</td>\n",
       "                        <td id=\"T_8d12d_row2_col6\" class=\"data row2 col6\" >0.004127</td>\n",
       "                        <td id=\"T_8d12d_row2_col7\" class=\"data row2 col7\" >-0.032695</td>\n",
       "                        <td id=\"T_8d12d_row2_col8\" class=\"data row2 col8\" >0.168148</td>\n",
       "            </tr>\n",
       "            <tr>\n",
       "                        <th id=\"T_8d12d_level0_row3\" class=\"row_heading level0 row3\" >shortness_of_breath</th>\n",
       "                        <td id=\"T_8d12d_row3_col0\" class=\"data row3 col0\" >0.106749</td>\n",
       "                        <td id=\"T_8d12d_row3_col1\" class=\"data row3 col1\" >0.126070</td>\n",
       "                        <td id=\"T_8d12d_row3_col2\" class=\"data row3 col2\" >0.197540</td>\n",
       "                        <td id=\"T_8d12d_row3_col3\" class=\"data row3 col3\" >1.000000</td>\n",
       "                        <td id=\"T_8d12d_row3_col4\" class=\"data row3 col4\" >0.202538</td>\n",
       "                        <td id=\"T_8d12d_row3_col5\" class=\"data row3 col5\" >0.231057</td>\n",
       "                        <td id=\"T_8d12d_row3_col6\" class=\"data row3 col6\" >0.024077</td>\n",
       "                        <td id=\"T_8d12d_row3_col7\" class=\"data row3 col7\" >-0.039829</td>\n",
       "                        <td id=\"T_8d12d_row3_col8\" class=\"data row3 col8\" >0.132954</td>\n",
       "            </tr>\n",
       "            <tr>\n",
       "                        <th id=\"T_8d12d_level0_row4\" class=\"row_heading level0 row4\" >head_ache</th>\n",
       "                        <td id=\"T_8d12d_row4_col0\" class=\"data row4 col0\" >0.116350</td>\n",
       "                        <td id=\"T_8d12d_row4_col1\" class=\"data row4 col1\" >0.168841</td>\n",
       "                        <td id=\"T_8d12d_row4_col2\" class=\"data row4 col2\" >0.323132</td>\n",
       "                        <td id=\"T_8d12d_row4_col3\" class=\"data row4 col3\" >0.202538</td>\n",
       "                        <td id=\"T_8d12d_row4_col4\" class=\"data row4 col4\" >1.000000</td>\n",
       "                        <td id=\"T_8d12d_row4_col5\" class=\"data row4 col5\" >0.364739</td>\n",
       "                        <td id=\"T_8d12d_row4_col6\" class=\"data row4 col6\" >0.008604</td>\n",
       "                        <td id=\"T_8d12d_row4_col7\" class=\"data row4 col7\" >-0.009088</td>\n",
       "                        <td id=\"T_8d12d_row4_col8\" class=\"data row4 col8\" >0.199919</td>\n",
       "            </tr>\n",
       "            <tr>\n",
       "                        <th id=\"T_8d12d_level0_row5\" class=\"row_heading level0 row5\" >corona_result</th>\n",
       "                        <td id=\"T_8d12d_row5_col0\" class=\"data row5 col0\" >0.194711</td>\n",
       "                        <td id=\"T_8d12d_row5_col1\" class=\"data row5 col1\" >0.263649</td>\n",
       "                        <td id=\"T_8d12d_row5_col2\" class=\"data row5 col2\" >0.275718</td>\n",
       "                        <td id=\"T_8d12d_row5_col3\" class=\"data row5 col3\" >0.231057</td>\n",
       "                        <td id=\"T_8d12d_row5_col4\" class=\"data row5 col4\" >0.364739</td>\n",
       "                        <td id=\"T_8d12d_row5_col5\" class=\"data row5 col5\" >1.000000</td>\n",
       "                        <td id=\"T_8d12d_row5_col6\" class=\"data row5 col6\" >0.046452</td>\n",
       "                        <td id=\"T_8d12d_row5_col7\" class=\"data row5 col7\" >0.014658</td>\n",
       "                        <td id=\"T_8d12d_row5_col8\" class=\"data row5 col8\" >0.484376</td>\n",
       "            </tr>\n",
       "            <tr>\n",
       "                        <th id=\"T_8d12d_level0_row6\" class=\"row_heading level0 row6\" >age_60_and_above</th>\n",
       "                        <td id=\"T_8d12d_row6_col0\" class=\"data row6 col0\" >-0.007553</td>\n",
       "                        <td id=\"T_8d12d_row6_col1\" class=\"data row6 col1\" >0.015890</td>\n",
       "                        <td id=\"T_8d12d_row6_col2\" class=\"data row6 col2\" >0.004127</td>\n",
       "                        <td id=\"T_8d12d_row6_col3\" class=\"data row6 col3\" >0.024077</td>\n",
       "                        <td id=\"T_8d12d_row6_col4\" class=\"data row6 col4\" >0.008604</td>\n",
       "                        <td id=\"T_8d12d_row6_col5\" class=\"data row6 col5\" >0.046452</td>\n",
       "                        <td id=\"T_8d12d_row6_col6\" class=\"data row6 col6\" >1.000000</td>\n",
       "                        <td id=\"T_8d12d_row6_col7\" class=\"data row6 col7\" >-0.011156</td>\n",
       "                        <td id=\"T_8d12d_row6_col8\" class=\"data row6 col8\" >-0.009700</td>\n",
       "            </tr>\n",
       "            <tr>\n",
       "                        <th id=\"T_8d12d_level0_row7\" class=\"row_heading level0 row7\" >gender</th>\n",
       "                        <td id=\"T_8d12d_row7_col0\" class=\"data row7 col0\" >0.032993</td>\n",
       "                        <td id=\"T_8d12d_row7_col1\" class=\"data row7 col1\" >0.026164</td>\n",
       "                        <td id=\"T_8d12d_row7_col2\" class=\"data row7 col2\" >-0.032695</td>\n",
       "                        <td id=\"T_8d12d_row7_col3\" class=\"data row7 col3\" >-0.039829</td>\n",
       "                        <td id=\"T_8d12d_row7_col4\" class=\"data row7 col4\" >-0.009088</td>\n",
       "                        <td id=\"T_8d12d_row7_col5\" class=\"data row7 col5\" >0.014658</td>\n",
       "                        <td id=\"T_8d12d_row7_col6\" class=\"data row7 col6\" >-0.011156</td>\n",
       "                        <td id=\"T_8d12d_row7_col7\" class=\"data row7 col7\" >1.000000</td>\n",
       "                        <td id=\"T_8d12d_row7_col8\" class=\"data row7 col8\" >0.012099</td>\n",
       "            </tr>\n",
       "            <tr>\n",
       "                        <th id=\"T_8d12d_level0_row8\" class=\"row_heading level0 row8\" >test_indication</th>\n",
       "                        <td id=\"T_8d12d_row8_col0\" class=\"data row8 col0\" >0.487182</td>\n",
       "                        <td id=\"T_8d12d_row8_col1\" class=\"data row8 col1\" >0.334960</td>\n",
       "                        <td id=\"T_8d12d_row8_col2\" class=\"data row8 col2\" >0.168148</td>\n",
       "                        <td id=\"T_8d12d_row8_col3\" class=\"data row8 col3\" >0.132954</td>\n",
       "                        <td id=\"T_8d12d_row8_col4\" class=\"data row8 col4\" >0.199919</td>\n",
       "                        <td id=\"T_8d12d_row8_col5\" class=\"data row8 col5\" >0.484376</td>\n",
       "                        <td id=\"T_8d12d_row8_col6\" class=\"data row8 col6\" >-0.009700</td>\n",
       "                        <td id=\"T_8d12d_row8_col7\" class=\"data row8 col7\" >0.012099</td>\n",
       "                        <td id=\"T_8d12d_row8_col8\" class=\"data row8 col8\" >1.000000</td>\n",
       "            </tr>\n",
       "    </tbody></table>"
      ],
      "text/plain": [
       "<pandas.io.formats.style.Styler at 0x11830ad30>"
      ]
     },
     "execution_count": 11,
     "metadata": {},
     "output_type": "execute_result"
    }
   ],
   "source": [
    "corr=covid.corr()\n",
    "corr.style.background_gradient(cmap='coolwarm',axis=None)"
   ]
  },
  {
   "cell_type": "code",
   "execution_count": 12,
   "id": "breathing-blast",
   "metadata": {},
   "outputs": [
    {
     "ename": "SyntaxError",
     "evalue": "expression cannot contain assignment, perhaps you meant \"==\"? (<ipython-input-12-affc54fd0180>, line 1)",
     "output_type": "error",
     "traceback": [
      "\u001b[0;36m  File \u001b[0;32m\"<ipython-input-12-affc54fd0180>\"\u001b[0;36m, line \u001b[0;32m1\u001b[0m\n\u001b[0;31m    covid.rename(columns={'test_indication' = 'contact'})\u001b[0m\n\u001b[0m                 ^\u001b[0m\n\u001b[0;31mSyntaxError\u001b[0m\u001b[0;31m:\u001b[0m expression cannot contain assignment, perhaps you meant \"==\"?\n"
     ]
    }
   ],
   "source": [
    "covid.rename(columns={'test_indication' = 'contact'})"
   ]
  },
  {
   "cell_type": "code",
   "execution_count": 13,
   "id": "desperate-render",
   "metadata": {},
   "outputs": [
    {
     "data": {
      "text/html": [
       "<div>\n",
       "<style scoped>\n",
       "    .dataframe tbody tr th:only-of-type {\n",
       "        vertical-align: middle;\n",
       "    }\n",
       "\n",
       "    .dataframe tbody tr th {\n",
       "        vertical-align: top;\n",
       "    }\n",
       "\n",
       "    .dataframe thead th {\n",
       "        text-align: right;\n",
       "    }\n",
       "</style>\n",
       "<table border=\"1\" class=\"dataframe\">\n",
       "  <thead>\n",
       "    <tr style=\"text-align: right;\">\n",
       "      <th></th>\n",
       "      <th>cough</th>\n",
       "      <th>fever</th>\n",
       "      <th>sore_throat</th>\n",
       "      <th>shortness_of_breath</th>\n",
       "      <th>head_ache</th>\n",
       "      <th>corona_result</th>\n",
       "      <th>age_60_and_above</th>\n",
       "      <th>gender</th>\n",
       "      <th>contact</th>\n",
       "    </tr>\n",
       "  </thead>\n",
       "  <tbody>\n",
       "    <tr>\n",
       "      <th>0</th>\n",
       "      <td>0</td>\n",
       "      <td>0</td>\n",
       "      <td>0</td>\n",
       "      <td>0</td>\n",
       "      <td>0</td>\n",
       "      <td>0</td>\n",
       "      <td>0</td>\n",
       "      <td>1</td>\n",
       "      <td>0</td>\n",
       "    </tr>\n",
       "    <tr>\n",
       "      <th>1</th>\n",
       "      <td>1</td>\n",
       "      <td>0</td>\n",
       "      <td>0</td>\n",
       "      <td>0</td>\n",
       "      <td>0</td>\n",
       "      <td>0</td>\n",
       "      <td>0</td>\n",
       "      <td>1</td>\n",
       "      <td>0</td>\n",
       "    </tr>\n",
       "    <tr>\n",
       "      <th>2</th>\n",
       "      <td>0</td>\n",
       "      <td>1</td>\n",
       "      <td>0</td>\n",
       "      <td>0</td>\n",
       "      <td>0</td>\n",
       "      <td>0</td>\n",
       "      <td>0</td>\n",
       "      <td>2</td>\n",
       "      <td>0</td>\n",
       "    </tr>\n",
       "    <tr>\n",
       "      <th>3</th>\n",
       "      <td>1</td>\n",
       "      <td>0</td>\n",
       "      <td>0</td>\n",
       "      <td>0</td>\n",
       "      <td>0</td>\n",
       "      <td>0</td>\n",
       "      <td>0</td>\n",
       "      <td>1</td>\n",
       "      <td>0</td>\n",
       "    </tr>\n",
       "    <tr>\n",
       "      <th>4</th>\n",
       "      <td>1</td>\n",
       "      <td>0</td>\n",
       "      <td>0</td>\n",
       "      <td>0</td>\n",
       "      <td>0</td>\n",
       "      <td>0</td>\n",
       "      <td>0</td>\n",
       "      <td>2</td>\n",
       "      <td>0</td>\n",
       "    </tr>\n",
       "    <tr>\n",
       "      <th>...</th>\n",
       "      <td>...</td>\n",
       "      <td>...</td>\n",
       "      <td>...</td>\n",
       "      <td>...</td>\n",
       "      <td>...</td>\n",
       "      <td>...</td>\n",
       "      <td>...</td>\n",
       "      <td>...</td>\n",
       "      <td>...</td>\n",
       "    </tr>\n",
       "    <tr>\n",
       "      <th>278843</th>\n",
       "      <td>0</td>\n",
       "      <td>0</td>\n",
       "      <td>0</td>\n",
       "      <td>0</td>\n",
       "      <td>0</td>\n",
       "      <td>0</td>\n",
       "      <td>0</td>\n",
       "      <td>0</td>\n",
       "      <td>0</td>\n",
       "    </tr>\n",
       "    <tr>\n",
       "      <th>278844</th>\n",
       "      <td>0</td>\n",
       "      <td>0</td>\n",
       "      <td>0</td>\n",
       "      <td>0</td>\n",
       "      <td>0</td>\n",
       "      <td>0</td>\n",
       "      <td>0</td>\n",
       "      <td>0</td>\n",
       "      <td>0</td>\n",
       "    </tr>\n",
       "    <tr>\n",
       "      <th>278845</th>\n",
       "      <td>0</td>\n",
       "      <td>0</td>\n",
       "      <td>0</td>\n",
       "      <td>0</td>\n",
       "      <td>0</td>\n",
       "      <td>1</td>\n",
       "      <td>0</td>\n",
       "      <td>0</td>\n",
       "      <td>2</td>\n",
       "    </tr>\n",
       "    <tr>\n",
       "      <th>278846</th>\n",
       "      <td>0</td>\n",
       "      <td>0</td>\n",
       "      <td>0</td>\n",
       "      <td>0</td>\n",
       "      <td>0</td>\n",
       "      <td>0</td>\n",
       "      <td>0</td>\n",
       "      <td>0</td>\n",
       "      <td>0</td>\n",
       "    </tr>\n",
       "    <tr>\n",
       "      <th>278847</th>\n",
       "      <td>0</td>\n",
       "      <td>0</td>\n",
       "      <td>0</td>\n",
       "      <td>0</td>\n",
       "      <td>0</td>\n",
       "      <td>0</td>\n",
       "      <td>0</td>\n",
       "      <td>0</td>\n",
       "      <td>0</td>\n",
       "    </tr>\n",
       "  </tbody>\n",
       "</table>\n",
       "<p>278848 rows × 9 columns</p>\n",
       "</div>"
      ],
      "text/plain": [
       "        cough  fever  sore_throat  shortness_of_breath  head_ache  \\\n",
       "0           0      0            0                    0          0   \n",
       "1           1      0            0                    0          0   \n",
       "2           0      1            0                    0          0   \n",
       "3           1      0            0                    0          0   \n",
       "4           1      0            0                    0          0   \n",
       "...       ...    ...          ...                  ...        ...   \n",
       "278843      0      0            0                    0          0   \n",
       "278844      0      0            0                    0          0   \n",
       "278845      0      0            0                    0          0   \n",
       "278846      0      0            0                    0          0   \n",
       "278847      0      0            0                    0          0   \n",
       "\n",
       "        corona_result  age_60_and_above  gender  contact  \n",
       "0                   0                 0       1        0  \n",
       "1                   0                 0       1        0  \n",
       "2                   0                 0       2        0  \n",
       "3                   0                 0       1        0  \n",
       "4                   0                 0       2        0  \n",
       "...               ...               ...     ...      ...  \n",
       "278843              0                 0       0        0  \n",
       "278844              0                 0       0        0  \n",
       "278845              1                 0       0        2  \n",
       "278846              0                 0       0        0  \n",
       "278847              0                 0       0        0  \n",
       "\n",
       "[278848 rows x 9 columns]"
      ]
     },
     "execution_count": 13,
     "metadata": {},
     "output_type": "execute_result"
    }
   ],
   "source": [
    "covid.rename(columns={'test_indication': 'contact'})"
   ]
  },
  {
   "cell_type": "code",
   "execution_count": 14,
   "id": "swiss-bahamas",
   "metadata": {},
   "outputs": [],
   "source": [
    "from sklearn.model_selection import train_test_split\n",
    "from sklearn import metrics\n",
    "from sklearn.metrics import accuracy_score"
   ]
  },
  {
   "cell_type": "code",
   "execution_count": 15,
   "id": "collectible-liquid",
   "metadata": {},
   "outputs": [],
   "source": [
    "x=covid.drop('corona_result',axis=1)\n",
    "y=covid['corona_result']"
   ]
  },
  {
   "cell_type": "code",
   "execution_count": 16,
   "id": "thirty-installation",
   "metadata": {},
   "outputs": [],
   "source": [
    "x_train, x_test, y_train, y_test = train_test_split(x, y, test_size = 0.20)"
   ]
  },
  {
   "cell_type": "code",
   "execution_count": 32,
   "id": "emotional-tradition",
   "metadata": {},
   "outputs": [
    {
     "data": {
      "text/plain": [
       "96.44611798457953"
      ]
     },
     "execution_count": 32,
     "metadata": {},
     "output_type": "execute_result"
    }
   ],
   "source": [
    "from sklearn.linear_model import LogisticRegression\n",
    "model = LogisticRegression()\n",
    "#Fit the model\n",
    "model.fit(x_train, y_train)\n",
    "y_pred = model.predict(x_test)\n",
    "#Score/Accuracy\n",
    "acc_logreg=model.score(x_test, y_test)*100\n",
    "acc_logreg"
   ]
  },
  {
   "cell_type": "code",
   "execution_count": 33,
   "id": "through-perfume",
   "metadata": {},
   "outputs": [
    {
     "data": {
      "text/plain": [
       "47.73160400422017"
      ]
     },
     "execution_count": 33,
     "metadata": {},
     "output_type": "execute_result"
    }
   ],
   "source": [
    "#Train the model\n",
    "from sklearn.ensemble import RandomForestRegressor\n",
    "model = RandomForestRegressor(n_estimators=30)\n",
    "#Fit\n",
    "model.fit(x_train, y_train)\n",
    "#Score/Accuracy\n",
    "acc_randomforest=model.score(x_test, y_test)*100\n",
    "acc_randomforest"
   ]
  },
  {
   "cell_type": "code",
   "execution_count": 34,
   "id": "promising-channels",
   "metadata": {},
   "outputs": [
    {
     "data": {
      "text/plain": [
       "47.948100485351006"
      ]
     },
     "execution_count": 34,
     "metadata": {},
     "output_type": "execute_result"
    }
   ],
   "source": [
    "#Train the model\n",
    "from sklearn.ensemble import GradientBoostingRegressor\n",
    "GBR = GradientBoostingRegressor(n_estimators=100, max_depth=4)\n",
    "#Fit\n",
    "GBR.fit(x_train, y_train)\n",
    "acc_gbk=GBR.score(x_test, y_test)*100\n",
    "acc_gbk"
   ]
  },
  {
   "cell_type": "code",
   "execution_count": 39,
   "id": "historical-demographic",
   "metadata": {},
   "outputs": [
    {
     "data": {
      "text/plain": [
       "47.57423538068364"
      ]
     },
     "execution_count": 39,
     "metadata": {},
     "output_type": "execute_result"
    }
   ],
   "source": [
    "#Train the model\n",
    "from sklearn.ensemble import GradientBoostingRegressor\n",
    "GBR = GradientBoostingRegressor(n_estimators=100, max_depth=20)\n",
    "#Fit\n",
    "GBR.fit(x_train, y_train)\n",
    "acc_gbk=GBR.score(x_test, y_test)*100\n",
    "acc_gbk"
   ]
  },
  {
   "cell_type": "code",
   "execution_count": 40,
   "id": "listed-turkish",
   "metadata": {},
   "outputs": [
    {
     "data": {
      "text/plain": [
       "96.87107764030841"
      ]
     },
     "execution_count": 40,
     "metadata": {},
     "output_type": "execute_result"
    }
   ],
   "source": [
    "from sklearn import tree\n",
    "t = tree.DecisionTreeClassifier()\n",
    "t.fit(x_train,y_train)\n",
    "y_pred = t.predict(x_test)\n",
    "#Score/Accuracy\n",
    "acc_decisiontree=t.score(x_test, y_test)*100\n",
    "acc_decisiontree"
   ]
  },
  {
   "cell_type": "code",
   "execution_count": 41,
   "id": "flush-teacher",
   "metadata": {},
   "outputs": [
    {
     "data": {
      "text/plain": [
       "94.60821230052"
      ]
     },
     "execution_count": 41,
     "metadata": {},
     "output_type": "execute_result"
    }
   ],
   "source": [
    "from sklearn.naive_bayes import GaussianNB\n",
    "model = GaussianNB()\n",
    "model.fit(x_train,y_train)\n",
    "#Score/Accuracy\n",
    "acc_gaussian= model.score(x_test, y_test)*100\n",
    "acc_gaussian"
   ]
  },
  {
   "cell_type": "code",
   "execution_count": 42,
   "id": "legendary-bearing",
   "metadata": {},
   "outputs": [
    {
     "data": {
      "text/plain": [
       "95.83467814237045"
      ]
     },
     "execution_count": 42,
     "metadata": {},
     "output_type": "execute_result"
    }
   ],
   "source": [
    "from sklearn import svm\n",
    "#Create a svm Classifier\n",
    "clf = svm.SVC(kernel='linear') # Linear Kernel\n",
    "#Train the model using the training sets\n",
    "clf.fit(x_train, y_train)\n",
    "#Predict the response for test dataset\n",
    "y_pred = clf.predict(x_test)\n",
    "#Score/Accuracy\n",
    "acc_svc=clf.score(x_test, y_test)*100\n",
    "acc_svc"
   ]
  },
  {
   "cell_type": "code",
   "execution_count": 43,
   "id": "recognized-tourist",
   "metadata": {},
   "outputs": [
    {
     "data": {
      "text/html": [
       "<div>\n",
       "<style scoped>\n",
       "    .dataframe tbody tr th:only-of-type {\n",
       "        vertical-align: middle;\n",
       "    }\n",
       "\n",
       "    .dataframe tbody tr th {\n",
       "        vertical-align: top;\n",
       "    }\n",
       "\n",
       "    .dataframe thead th {\n",
       "        text-align: right;\n",
       "    }\n",
       "</style>\n",
       "<table border=\"1\" class=\"dataframe\">\n",
       "  <thead>\n",
       "    <tr style=\"text-align: right;\">\n",
       "      <th></th>\n",
       "      <th>Model</th>\n",
       "      <th>Score</th>\n",
       "    </tr>\n",
       "  </thead>\n",
       "  <tbody>\n",
       "    <tr>\n",
       "      <th>5</th>\n",
       "      <td>Decision Tree</td>\n",
       "      <td>96.871078</td>\n",
       "    </tr>\n",
       "    <tr>\n",
       "      <th>1</th>\n",
       "      <td>KNN</td>\n",
       "      <td>96.854940</td>\n",
       "    </tr>\n",
       "    <tr>\n",
       "      <th>2</th>\n",
       "      <td>Logistic Regression</td>\n",
       "      <td>96.446118</td>\n",
       "    </tr>\n",
       "    <tr>\n",
       "      <th>0</th>\n",
       "      <td>Support Vector Machines</td>\n",
       "      <td>95.834678</td>\n",
       "    </tr>\n",
       "    <tr>\n",
       "      <th>4</th>\n",
       "      <td>Naive Bayes</td>\n",
       "      <td>94.608212</td>\n",
       "    </tr>\n",
       "    <tr>\n",
       "      <th>3</th>\n",
       "      <td>Random Forest</td>\n",
       "      <td>47.731604</td>\n",
       "    </tr>\n",
       "    <tr>\n",
       "      <th>6</th>\n",
       "      <td>Gradient Boosting Classifier</td>\n",
       "      <td>47.574235</td>\n",
       "    </tr>\n",
       "  </tbody>\n",
       "</table>\n",
       "</div>"
      ],
      "text/plain": [
       "                          Model      Score\n",
       "5                 Decision Tree  96.871078\n",
       "1                           KNN  96.854940\n",
       "2           Logistic Regression  96.446118\n",
       "0       Support Vector Machines  95.834678\n",
       "4                   Naive Bayes  94.608212\n",
       "3                 Random Forest  47.731604\n",
       "6  Gradient Boosting Classifier  47.574235"
      ]
     },
     "execution_count": 43,
     "metadata": {},
     "output_type": "execute_result"
    }
   ],
   "source": [
    "models = pd.DataFrame({\n",
    "    'Model': ['Support Vector Machines', 'KNN', 'Logistic Regression', \n",
    "              'Random Forest', 'Naive Bayes',   \n",
    "              'Decision Tree', 'Gradient Boosting Classifier'],\n",
    "    'Score': [acc_svc, acc_knn, acc_logreg, \n",
    "              acc_randomforest, acc_gaussian, acc_decisiontree,\n",
    "               acc_gbk]})\n",
    "models.sort_values(by='Score', ascending=False)"
   ]
  },
  {
   "cell_type": "code",
   "execution_count": 44,
   "id": "strange-liability",
   "metadata": {},
   "outputs": [
    {
     "ename": "SyntaxError",
     "evalue": "illegal target for annotation (<ipython-input-44-59bac1637004>, line 1)",
     "output_type": "error",
     "traceback": [
      "\u001b[0;36m  File \u001b[0;32m\"<ipython-input-44-59bac1637004>\"\u001b[0;36m, line \u001b[0;32m1\u001b[0m\n\u001b[0;31m    'Model': ['Support Vector Machines', 'KNN', 'Logistic Regression', 'Naive Bayes',\u001b[0m\n\u001b[0m    ^\u001b[0m\n\u001b[0;31mSyntaxError\u001b[0m\u001b[0;31m:\u001b[0m illegal target for annotation\n"
     ]
    }
   ],
   "source": [
    "    'Model': ['Support Vector Machines', 'KNN', 'Logistic Regression', 'Naive Bayes',   \n",
    "              'Decision Tree',],\n",
    "    'Score': [acc_svc, acc_knn, acc_logreg, acc_gaussian, acc_decisiontree]})\n",
    "models.sort_values(by='Score', ascending=False)"
   ]
  },
  {
   "cell_type": "code",
   "execution_count": 45,
   "id": "atlantic-interstate",
   "metadata": {},
   "outputs": [
    {
     "data": {
      "text/html": [
       "<div>\n",
       "<style scoped>\n",
       "    .dataframe tbody tr th:only-of-type {\n",
       "        vertical-align: middle;\n",
       "    }\n",
       "\n",
       "    .dataframe tbody tr th {\n",
       "        vertical-align: top;\n",
       "    }\n",
       "\n",
       "    .dataframe thead th {\n",
       "        text-align: right;\n",
       "    }\n",
       "</style>\n",
       "<table border=\"1\" class=\"dataframe\">\n",
       "  <thead>\n",
       "    <tr style=\"text-align: right;\">\n",
       "      <th></th>\n",
       "      <th>Model</th>\n",
       "      <th>Score</th>\n",
       "    </tr>\n",
       "  </thead>\n",
       "  <tbody>\n",
       "    <tr>\n",
       "      <th>4</th>\n",
       "      <td>Decision Tree</td>\n",
       "      <td>96.871078</td>\n",
       "    </tr>\n",
       "    <tr>\n",
       "      <th>1</th>\n",
       "      <td>KNN</td>\n",
       "      <td>96.854940</td>\n",
       "    </tr>\n",
       "    <tr>\n",
       "      <th>2</th>\n",
       "      <td>Logistic Regression</td>\n",
       "      <td>96.446118</td>\n",
       "    </tr>\n",
       "    <tr>\n",
       "      <th>0</th>\n",
       "      <td>Support Vector Machines</td>\n",
       "      <td>95.834678</td>\n",
       "    </tr>\n",
       "    <tr>\n",
       "      <th>3</th>\n",
       "      <td>Naive Bayes</td>\n",
       "      <td>94.608212</td>\n",
       "    </tr>\n",
       "  </tbody>\n",
       "</table>\n",
       "</div>"
      ],
      "text/plain": [
       "                     Model      Score\n",
       "4            Decision Tree  96.871078\n",
       "1                      KNN  96.854940\n",
       "2      Logistic Regression  96.446118\n",
       "0  Support Vector Machines  95.834678\n",
       "3              Naive Bayes  94.608212"
      ]
     },
     "execution_count": 45,
     "metadata": {},
     "output_type": "execute_result"
    }
   ],
   "source": [
    "models = pd.DataFrame({\n",
    "        'Model': ['Support Vector Machines', 'KNN', 'Logistic Regression', 'Naive Bayes',   \n",
    "              'Decision Tree',],\n",
    "    'Score': [acc_svc, acc_knn, acc_logreg, acc_gaussian, acc_decisiontree]})\n",
    "models.sort_values(by='Score', ascending=False)"
   ]
  },
  {
   "cell_type": "code",
   "execution_count": 69,
   "id": "modified-worst",
   "metadata": {},
   "outputs": [
    {
     "data": {
      "text/plain": [
       "47.98312738836007"
      ]
     },
     "execution_count": 69,
     "metadata": {},
     "output_type": "execute_result"
    }
   ],
   "source": [
    "#Train the model\n",
    "from sklearn.ensemble import RandomForestRegressor\n",
    "model = RandomForestRegressor(max_depth= 80,\n",
    " max_features= 8,\n",
    " min_samples_leaf= 5,\n",
    " min_samples_split= 12,\n",
    " n_estimators= 2000)\n",
    "#Fit\n",
    "model.fit(x_train, y_train)\n",
    "#Score/Accuracy\n",
    "acc_randomforest=model.score(x_test, y_test)*100\n",
    "acc_randomforest"
   ]
  },
  {
   "cell_type": "code",
   "execution_count": 70,
   "id": "monthly-dream",
   "metadata": {},
   "outputs": [
    {
     "data": {
      "text/plain": [
       "96.87107764030841"
      ]
     },
     "execution_count": 70,
     "metadata": {},
     "output_type": "execute_result"
    }
   ],
   "source": [
    "from sklearn import tree\n",
    "t = tree.DecisionTreeClassifier()\n",
    "t.fit(x_train,y_train)\n",
    "y_pred = t.predict(x_test)\n",
    "#Score/Accuracy\n",
    "acc_decisiontree=t.score(x_test, y_test)*100\n",
    "acc_decisiontree"
   ]
  },
  {
   "cell_type": "code",
   "execution_count": 2,
   "id": "opponent-belly",
   "metadata": {},
   "outputs": [
    {
     "ename": "NameError",
     "evalue": "name 'x_train' is not defined",
     "output_type": "error",
     "traceback": [
      "\u001b[0;31m---------------------------------------------------------------------------\u001b[0m",
      "\u001b[0;31mNameError\u001b[0m                                 Traceback (most recent call last)",
      "\u001b[0;32m<ipython-input-2-28a0cbf57f85>\u001b[0m in \u001b[0;36m<module>\u001b[0;34m\u001b[0m\n\u001b[1;32m      2\u001b[0m \u001b[0;32mimport\u001b[0m \u001b[0mpickle\u001b[0m\u001b[0;34m\u001b[0m\u001b[0;34m\u001b[0m\u001b[0m\n\u001b[1;32m      3\u001b[0m \u001b[0mmodel\u001b[0m \u001b[0;34m=\u001b[0m \u001b[0mtree\u001b[0m\u001b[0;34m.\u001b[0m\u001b[0mDecisionTreeClassifier\u001b[0m\u001b[0;34m(\u001b[0m\u001b[0;34m)\u001b[0m\u001b[0;34m\u001b[0m\u001b[0;34m\u001b[0m\u001b[0m\n\u001b[0;32m----> 4\u001b[0;31m \u001b[0mmodel\u001b[0m\u001b[0;34m.\u001b[0m\u001b[0mfit\u001b[0m\u001b[0;34m(\u001b[0m\u001b[0mx_train\u001b[0m\u001b[0;34m,\u001b[0m\u001b[0my_train\u001b[0m\u001b[0;34m)\u001b[0m\u001b[0;34m\u001b[0m\u001b[0;34m\u001b[0m\u001b[0m\n\u001b[0m\u001b[1;32m      5\u001b[0m \u001b[0my_pred\u001b[0m \u001b[0;34m=\u001b[0m \u001b[0mmodel\u001b[0m\u001b[0;34m.\u001b[0m\u001b[0mpredict\u001b[0m\u001b[0;34m(\u001b[0m\u001b[0mx_test\u001b[0m\u001b[0;34m)\u001b[0m\u001b[0;34m\u001b[0m\u001b[0;34m\u001b[0m\u001b[0m\n\u001b[1;32m      6\u001b[0m \u001b[0;31m#Score/Accuracy\u001b[0m\u001b[0;34m\u001b[0m\u001b[0;34m\u001b[0m\u001b[0;34m\u001b[0m\u001b[0m\n",
      "\u001b[0;31mNameError\u001b[0m: name 'x_train' is not defined"
     ]
    }
   ],
   "source": [
    "from sklearn import tree\n",
    "import pickle\n",
    "model = tree.DecisionTreeClassifier()\n",
    "model.fit(x_train,y_train)\n",
    "y_pred = model.predict(x_test)\n",
    "#Score/Accuracy\n",
    "acc_decisiontree=model.score(x_test, y_test)*100\n",
    "acc_decisiontree\n",
    "\n",
    "filename = 'model.sav'\n",
    "\n",
    "pickle.dump(model, open(filename,'wb'))\n",
    "print(model)"
   ]
  },
  {
   "cell_type": "code",
   "execution_count": 74,
   "id": "contrary-contribution",
   "metadata": {},
   "outputs": [
    {
     "name": "stdout",
     "output_type": "stream",
     "text": [
      "0.9687107764030841\n"
     ]
    }
   ],
   "source": [
    "loaded_model = pickle.load(open(filename, 'rb'))\n",
    "result = loaded_model.score(x_test, y_test)\n",
    "print(result)"
   ]
  },
  {
   "cell_type": "code",
   "execution_count": null,
   "id": "honest-album",
   "metadata": {},
   "outputs": [],
   "source": []
  }
 ],
 "metadata": {
  "kernelspec": {
   "display_name": "Python 3",
   "language": "python",
   "name": "python3"
  },
  "language_info": {
   "codemirror_mode": {
    "name": "ipython",
    "version": 3
   },
   "file_extension": ".py",
   "mimetype": "text/x-python",
   "name": "python",
   "nbconvert_exporter": "python",
   "pygments_lexer": "ipython3",
   "version": "3.9.1"
  }
 },
 "nbformat": 4,
 "nbformat_minor": 5
}
